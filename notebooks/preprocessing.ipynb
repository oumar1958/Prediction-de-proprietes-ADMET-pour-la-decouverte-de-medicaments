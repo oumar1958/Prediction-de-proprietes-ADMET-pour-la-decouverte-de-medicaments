{
 "cells": [
  {
   "cell_type": "code",
   "execution_count": 2,
   "id": "a70bbbaa",
   "metadata": {},
   "outputs": [
    {
     "ename": "ModuleNotFoundError",
     "evalue": "No module named 'pandas'",
     "output_type": "error",
     "traceback": [
      "\u001b[1;31m---------------------------------------------------------------------------\u001b[0m",
      "\u001b[1;31mModuleNotFoundError\u001b[0m                       Traceback (most recent call last)",
      "Cell \u001b[1;32mIn[2], line 3\u001b[0m\n\u001b[0;32m      1\u001b[0m \u001b[38;5;66;03m# notebooks/preprocessing.ipynb\u001b[39;00m\n\u001b[1;32m----> 3\u001b[0m \u001b[38;5;28;01mimport\u001b[39;00m\u001b[38;5;250m \u001b[39m\u001b[38;5;21;01mpandas\u001b[39;00m\u001b[38;5;250m \u001b[39m\u001b[38;5;28;01mas\u001b[39;00m\u001b[38;5;250m \u001b[39m\u001b[38;5;21;01mpd\u001b[39;00m\n\u001b[0;32m      4\u001b[0m \u001b[38;5;28;01mimport\u001b[39;00m\u001b[38;5;250m \u001b[39m\u001b[38;5;21;01mnumpy\u001b[39;00m\u001b[38;5;250m \u001b[39m\u001b[38;5;28;01mas\u001b[39;00m\u001b[38;5;250m \u001b[39m\u001b[38;5;21;01mnp\u001b[39;00m\n\u001b[0;32m      5\u001b[0m \u001b[38;5;28;01mfrom\u001b[39;00m\u001b[38;5;250m \u001b[39m\u001b[38;5;21;01mrdkit\u001b[39;00m\u001b[38;5;250m \u001b[39m\u001b[38;5;28;01mimport\u001b[39;00m Chem\n",
      "\u001b[1;31mModuleNotFoundError\u001b[0m: No module named 'pandas'"
     ]
    }
   ],
   "source": [
    "# notebooks/preprocessing.ipynb\n",
    "\n",
    "import pandas as pd\n",
    "import numpy as np\n",
    "from rdkit import Chem\n",
    "from rdkit.Chem import AllChem, DataStructs\n",
    "from tqdm import tqdm\n",
    "\n",
    "# 📥 Chargement des données brutes\n",
    "X = pd.read_csv('../data/raw/X_train.csv')\n",
    "print(\"Nombre de molécules :\", len(X))\n",
    "\n",
    "# 🔬 Fonction de conversion SMILES → vecteurs\n",
    "def smiles_to_morgan_fp(smiles, radius=2, n_bits=2048):\n",
    "    mol = Chem.MolFromSmiles(smiles)\n",
    "    if mol is None:\n",
    "        return np.zeros(n_bits)\n",
    "    fp = AllChem.GetMorganFingerprintAsBitVect(mol, radius, nBits=n_bits)\n",
    "    arr = np.zeros((n_bits,))\n",
    "    DataStructs.ConvertToNumpyArray(fp, arr)\n",
    "    return arr\n",
    "\n",
    "# 🔄 Transformation des SMILES en empreintes\n",
    "print(\"Conversion des SMILES en vecteurs binaires...\")\n",
    "fps = []\n",
    "for s in tqdm(X['SMILES']):\n",
    "    fps.append(smiles_to_morgan_fp(s))\n",
    "\n",
    "# 🔧 Création du DataFrame de features\n",
    "X_fps = pd.DataFrame(fps)\n",
    "X_fps['ID'] = X['ID']  # Pour pouvoir faire correspondre avec y plus tard\n",
    "X_fps.to_csv(\"../data/processed/X_train_fingerprints.csv\", index=False)\n",
    "\n",
    "print(\"✅ Empreintes moléculaires sauvegardées dans data/processed/X_train_fingerprints.csv\")\n",
    "X_fps.head()\n"
   ]
  }
 ],
 "metadata": {
  "kernelspec": {
   "display_name": "Python 3",
   "language": "python",
   "name": "python3"
  },
  "language_info": {
   "codemirror_mode": {
    "name": "ipython",
    "version": 3
   },
   "file_extension": ".py",
   "mimetype": "text/x-python",
   "name": "python",
   "nbconvert_exporter": "python",
   "pygments_lexer": "ipython3",
   "version": "3.10.11"
  }
 },
 "nbformat": 4,
 "nbformat_minor": 5
}
