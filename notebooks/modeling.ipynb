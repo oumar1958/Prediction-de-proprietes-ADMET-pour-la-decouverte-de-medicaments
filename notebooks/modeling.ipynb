{
 "cells": [
  {
   "cell_type": "code",
   "execution_count": 1,
   "id": "3aba16ca",
   "metadata": {},
   "outputs": [
    {
     "ename": "ModuleNotFoundError",
     "evalue": "No module named 'pandas'",
     "output_type": "error",
     "traceback": [
      "\u001b[1;31m---------------------------------------------------------------------------\u001b[0m",
      "\u001b[1;31mModuleNotFoundError\u001b[0m                       Traceback (most recent call last)",
      "Cell \u001b[1;32mIn[1], line 3\u001b[0m\n\u001b[0;32m      1\u001b[0m \u001b[38;5;66;03m# notebooks/modeling.ipynb\u001b[39;00m\n\u001b[1;32m----> 3\u001b[0m \u001b[38;5;28;01mimport\u001b[39;00m\u001b[38;5;250m \u001b[39m\u001b[38;5;21;01mpandas\u001b[39;00m\u001b[38;5;250m \u001b[39m\u001b[38;5;28;01mas\u001b[39;00m\u001b[38;5;250m \u001b[39m\u001b[38;5;21;01mpd\u001b[39;00m\n\u001b[0;32m      4\u001b[0m \u001b[38;5;28;01mimport\u001b[39;00m\u001b[38;5;250m \u001b[39m\u001b[38;5;21;01mnumpy\u001b[39;00m\u001b[38;5;250m \u001b[39m\u001b[38;5;28;01mas\u001b[39;00m\u001b[38;5;250m \u001b[39m\u001b[38;5;21;01mnp\u001b[39;00m\n\u001b[0;32m      5\u001b[0m \u001b[38;5;28;01mfrom\u001b[39;00m\u001b[38;5;250m \u001b[39m\u001b[38;5;21;01msklearn\u001b[39;00m\u001b[38;5;21;01m.\u001b[39;00m\u001b[38;5;21;01mmodel_selection\u001b[39;00m\u001b[38;5;250m \u001b[39m\u001b[38;5;28;01mimport\u001b[39;00m cross_val_score\n",
      "\u001b[1;31mModuleNotFoundError\u001b[0m: No module named 'pandas'"
     ]
    }
   ],
   "source": [
    "# notebooks/modeling.ipynb\n",
    "\n",
    "import pandas as pd\n",
    "import numpy as np\n",
    "from sklearn.model_selection import cross_val_score\n",
    "from sklearn.ensemble import GradientBoostingClassifier, RandomForestClassifier\n",
    "from sklearn.linear_model import LogisticRegression\n",
    "from sklearn.multioutput import MultiOutputClassifier\n",
    "from sklearn.pipeline import Pipeline\n",
    "from sklearn.preprocessing import StandardScaler\n",
    "\n",
    "# 📥 Chargement des données\n",
    "X = pd.read_csv('../data/processed/X_train_fingerprints.csv')\n",
    "y = pd.read_csv('../data/raw/y_train.csv')\n",
    "\n",
    "# 🔗 Fusion\n",
    "df = X.merge(y, on=\"ID\")\n",
    "X_features = df.drop(columns=[\"ID\", \"Y1\", \"Y2\", \"Y3\"])\n",
    "y_labels = df[[\"Y1\", \"Y2\", \"Y3\"]]\n",
    "\n",
    "# ⚙️ Liste des modèles à tester\n",
    "models = {\n",
    "    \"Random Forest\": MultiOutputClassifier(RandomForestClassifier(n_estimators=100, random_state=42)),\n",
    "    \"Gradient Boosting\": MultiOutputClassifier(GradientBoostingClassifier(n_estimators=150)),\n",
    "    \"Logistic Regression\": MultiOutputClassifier(\n",
    "        Pipeline([\n",
    "            (\"scaler\", StandardScaler()),\n",
    "            (\"lr\", LogisticRegression(max_iter=500))\n",
    "        ])\n",
    "    )\n",
    "}\n",
    "\n",
    "# 🎯 Validation croisée\n",
    "results = {}\n",
    "for name, model in models.items():\n",
    "    print(f\"⏳ Évaluation de {name} ...\")\n",
    "    scores = cross_val_score(model, X_features, y_labels, cv=5, scoring=\"f1_micro\")\n",
    "    results[name] = scores\n",
    "    print(f\"✔️ F1 micro (5-fold): {scores.mean():.4f} ± {scores.std():.4f}\\n\")\n",
    "\n",
    "# 📊 Résumé\n",
    "summary_df = pd.DataFrame({k: v for k, v in results.items()})\n",
    "summary_df.index = [f\"Fold {i+1}\" for i in range(5)]\n",
    "print(summary_df)\n",
    "print(\"\\n🎯 Moyennes :\")\n",
    "print(summary_df.mean(axis=0).sort_values(ascending=False))\n",
    "\n"
   ]
  }
 ],
 "metadata": {
  "kernelspec": {
   "display_name": "Python 3",
   "language": "python",
   "name": "python3"
  },
  "language_info": {
   "codemirror_mode": {
    "name": "ipython",
    "version": 3
   },
   "file_extension": ".py",
   "mimetype": "text/x-python",
   "name": "python",
   "nbconvert_exporter": "python",
   "pygments_lexer": "ipython3",
   "version": "3.10.11"
  }
 },
 "nbformat": 4,
 "nbformat_minor": 5
}
