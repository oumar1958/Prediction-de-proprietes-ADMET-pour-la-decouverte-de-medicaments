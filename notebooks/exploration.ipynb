{
 "cells": [
  {
   "cell_type": "code",
   "execution_count": 2,
   "id": "cc1e9abd",
   "metadata": {},
   "outputs": [
    {
     "ename": "ModuleNotFoundError",
     "evalue": "No module named 'pandas'",
     "output_type": "error",
     "traceback": [
      "\u001b[1;31m---------------------------------------------------------------------------\u001b[0m",
      "\u001b[1;31mModuleNotFoundError\u001b[0m                       Traceback (most recent call last)",
      "Cell \u001b[1;32mIn[2], line 5\u001b[0m\n\u001b[0;32m      1\u001b[0m \u001b[38;5;66;03m# notebooks/exploration.ipynb\u001b[39;00m\n\u001b[0;32m      2\u001b[0m \n\u001b[0;32m      3\u001b[0m \u001b[38;5;66;03m# notebooks/exploration.ipynb\u001b[39;00m\n\u001b[1;32m----> 5\u001b[0m \u001b[38;5;28;01mimport\u001b[39;00m\u001b[38;5;250m \u001b[39m\u001b[38;5;21;01mpandas\u001b[39;00m\u001b[38;5;250m \u001b[39m\u001b[38;5;28;01mas\u001b[39;00m\u001b[38;5;250m \u001b[39m\u001b[38;5;21;01mpd\u001b[39;00m\n\u001b[0;32m      6\u001b[0m \u001b[38;5;28;01mimport\u001b[39;00m\u001b[38;5;250m \u001b[39m\u001b[38;5;21;01mmatplotlib\u001b[39;00m\u001b[38;5;21;01m.\u001b[39;00m\u001b[38;5;21;01mpyplot\u001b[39;00m\u001b[38;5;250m \u001b[39m\u001b[38;5;28;01mas\u001b[39;00m\u001b[38;5;250m \u001b[39m\u001b[38;5;21;01mplt\u001b[39;00m\n\u001b[0;32m      7\u001b[0m \u001b[38;5;28;01mimport\u001b[39;00m\u001b[38;5;250m \u001b[39m\u001b[38;5;21;01mseaborn\u001b[39;00m\u001b[38;5;250m \u001b[39m\u001b[38;5;28;01mas\u001b[39;00m\u001b[38;5;250m \u001b[39m\u001b[38;5;21;01msns\u001b[39;00m\n",
      "\u001b[1;31mModuleNotFoundError\u001b[0m: No module named 'pandas'"
     ]
    }
   ],
   "source": [
    "# notebooks/exploration.ipynb\n",
    "\n",
    "# notebooks/exploration.ipynb\n",
    "\n",
    "import pandas as pd\n",
    "import matplotlib.pyplot as plt\n",
    "import seaborn as sns\n",
    "\n",
    "# Style des graphiques\n",
    "sns.set(style=\"whitegrid\")\n",
    "\n",
    "# Chargement des données\n",
    "X = pd.read_csv('../data/raw/X_train.csv')\n",
    "y = pd.read_csv('../data/raw/y_train.csv')\n",
    "\n",
    "# Aperçu des données\n",
    "print(\"Aperçu des X_train :\")\n",
    "display(X.head())\n",
    "\n",
    "print(\"Aperçu des y_train :\")\n",
    "display(y.head())\n",
    "\n",
    "# Fusion pour analyse conjointe\n",
    "df = X.merge(y, on=\"ID\")\n",
    "\n",
    "# Analyse descriptive\n",
    "df['smiles_length'] = df['SMILES'].apply(len)\n",
    "print(\"\\nStatistiques sur la longueur des SMILES :\")\n",
    "print(df['smiles_length'].describe())\n",
    "\n",
    "# Visualisation 1 : distribution des longueurs de SMILES\n",
    "plt.figure(figsize=(10, 5))\n",
    "sns.histplot(df['smiles_length'], bins=50, kde=True, color='skyblue')\n",
    "plt.title(\"📊 Distribution de la longueur des chaînes SMILES\")\n",
    "plt.xlabel(\"Longueur de la chaîne SMILES\")\n",
    "plt.ylabel(\"Nombre de molécules\")\n",
    "plt.tight_layout()\n",
    "plt.show()\n",
    "\n",
    "# Visualisation 2 : proportion des classes Y1, Y2, Y3\n",
    "plt.figure(figsize=(6, 4))\n",
    "y[[\"Y1\", \"Y2\", \"Y3\"]].mean().plot(kind='bar', color='salmon')\n",
    "plt.title(\"📈 Proportion de classes positives (Y1, Y2, Y3)\")\n",
    "plt.ylabel(\"Fréquence\")\n",
    "plt.xticks(rotation=0)\n",
    "plt.ylim(0, 1)\n",
    "plt.tight_layout()\n",
    "plt.show()\n",
    "\n",
    "# Visualisation 3 : corrélations entre les étiquettes\n",
    "plt.figure(figsize=(5, 4))\n",
    "sns.heatmap(y[[\"Y1\", \"Y2\", \"Y3\"]].corr(), annot=True, cmap='coolwarm')\n",
    "plt.title(\"🔗 Corrélation entre les propriétés ADMET\")\n",
    "plt.tight_layout()\n",
    "plt.show()\n"
   ]
  }
 ],
 "metadata": {
  "kernelspec": {
   "display_name": "Python 3",
   "language": "python",
   "name": "python3"
  },
  "language_info": {
   "codemirror_mode": {
    "name": "ipython",
    "version": 3
   },
   "file_extension": ".py",
   "mimetype": "text/x-python",
   "name": "python",
   "nbconvert_exporter": "python",
   "pygments_lexer": "ipython3",
   "version": "3.10.11"
  }
 },
 "nbformat": 4,
 "nbformat_minor": 5
}
