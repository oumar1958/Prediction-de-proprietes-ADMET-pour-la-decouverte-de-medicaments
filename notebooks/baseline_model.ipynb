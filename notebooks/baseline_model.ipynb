{
 "cells": [
  {
   "cell_type": "code",
   "execution_count": 2,
   "id": "eac5a36e",
   "metadata": {},
   "outputs": [
    {
     "ename": "ModuleNotFoundError",
     "evalue": "No module named 'pandas'",
     "output_type": "error",
     "traceback": [
      "\u001b[1;31m---------------------------------------------------------------------------\u001b[0m",
      "\u001b[1;31mModuleNotFoundError\u001b[0m                       Traceback (most recent call last)",
      "Cell \u001b[1;32mIn[2], line 3\u001b[0m\n\u001b[0;32m      1\u001b[0m \u001b[38;5;66;03m# notebooks/baseline_model.ipynb\u001b[39;00m\n\u001b[1;32m----> 3\u001b[0m \u001b[38;5;28;01mimport\u001b[39;00m\u001b[38;5;250m \u001b[39m\u001b[38;5;21;01mpandas\u001b[39;00m\u001b[38;5;250m \u001b[39m\u001b[38;5;28;01mas\u001b[39;00m\u001b[38;5;250m \u001b[39m\u001b[38;5;21;01mpd\u001b[39;00m\n\u001b[0;32m      4\u001b[0m \u001b[38;5;28;01mfrom\u001b[39;00m\u001b[38;5;250m \u001b[39m\u001b[38;5;21;01msklearn\u001b[39;00m\u001b[38;5;21;01m.\u001b[39;00m\u001b[38;5;21;01mensemble\u001b[39;00m\u001b[38;5;250m \u001b[39m\u001b[38;5;28;01mimport\u001b[39;00m RandomForestClassifier\n\u001b[0;32m      5\u001b[0m \u001b[38;5;28;01mfrom\u001b[39;00m\u001b[38;5;250m \u001b[39m\u001b[38;5;21;01msklearn\u001b[39;00m\u001b[38;5;21;01m.\u001b[39;00m\u001b[38;5;21;01mmultioutput\u001b[39;00m\u001b[38;5;250m \u001b[39m\u001b[38;5;28;01mimport\u001b[39;00m MultiOutputClassifier\n",
      "\u001b[1;31mModuleNotFoundError\u001b[0m: No module named 'pandas'"
     ]
    }
   ],
   "source": [
    "# notebooks/baseline_model.ipynb\n",
    "\n",
    "import pandas as pd\n",
    "from sklearn.ensemble import RandomForestClassifier\n",
    "from sklearn.multioutput import MultiOutputClassifier\n",
    "from sklearn.metrics import f1_score, classification_report\n",
    "import joblib\n",
    "\n",
    "# 📥 Chargement des données\n",
    "X = pd.read_csv('../data/processed/X_train_fingerprints.csv')\n",
    "y = pd.read_csv('../data/raw/y_train.csv')\n",
    "\n",
    "# 🔗 Fusion sur ID\n",
    "df = X.merge(y, on=\"ID\")\n",
    "X_features = df.drop(columns=[\"ID\", \"Y1\", \"Y2\", \"Y3\"])\n",
    "y_labels = df[[\"Y1\", \"Y2\", \"Y3\"]]\n",
    "\n",
    "# ⚙️ Modèle de base\n",
    "base_model = RandomForestClassifier(n_estimators=100, random_state=42)\n",
    "model = MultiOutputClassifier(base_model)\n",
    "\n",
    "# 🎯 Entraînement\n",
    "model.fit(X_features, y_labels)\n",
    "\n",
    "# 🔍 Évaluation\n",
    "y_pred = model.predict(X_features)\n",
    "f1 = f1_score(y_labels, y_pred, average='micro')\n",
    "print(f\"✅ F1 Score (micro): {f1:.4f}\\n\")\n",
    "\n",
    "# Rapport complet\n",
    "print(\"📋 Rapport par classe :\")\n",
    "print(classification_report(y_labels, y_pred, target_names=[\"Y1\", \"Y2\", \"Y3\"]))\n",
    "\n",
    "# 💾 Sauvegarde du modèle\n",
    "joblib.dump(model, \"../models/admet_model.pkl\")\n",
    "print(\"🧠 Modèle sauvegardé sous models/admet_model.pkl\")\n"
   ]
  }
 ],
 "metadata": {
  "kernelspec": {
   "display_name": "Python 3",
   "language": "python",
   "name": "python3"
  },
  "language_info": {
   "codemirror_mode": {
    "name": "ipython",
    "version": 3
   },
   "file_extension": ".py",
   "mimetype": "text/x-python",
   "name": "python",
   "nbconvert_exporter": "python",
   "pygments_lexer": "ipython3",
   "version": "3.10.11"
  }
 },
 "nbformat": 4,
 "nbformat_minor": 5
}
